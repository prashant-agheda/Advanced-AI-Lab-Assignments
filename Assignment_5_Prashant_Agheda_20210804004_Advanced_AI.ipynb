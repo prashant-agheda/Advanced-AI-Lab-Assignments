{
  "nbformat": 4,
  "nbformat_minor": 0,
  "metadata": {
    "colab": {
      "provenance": [],
      "collapsed_sections": [],
      "authorship_tag": "ABX9TyPIW7pkAnwpafR31KGD8t7n"
    },
    "kernelspec": {
      "name": "python3",
      "display_name": "Python 3"
    },
    "language_info": {
      "name": "python"
    }
  },
  "cells": [
    {
      "cell_type": "markdown",
      "metadata": {
        "id": "0gWxHBUxgMUb"
      },
      "source": [
        "# **ASSIGNMENT 5**\n",
        "---\n",
        "\n",
        "# **Name:** Prashant Agheda\n",
        "# **PRN No:** 20210804004\n",
        "# **Subject:** Advanced AI\n",
        "\n",
        "---"
      ]
    },
    {
      "cell_type": "markdown",
      "metadata": {
        "id": "Uz2Yh_M0gWmw"
      },
      "source": [
        "## **Topic:** SPEECH TO TEXT."
      ]
    },
    {
      "cell_type": "markdown",
      "metadata": {
        "id": "DQ5TBq2TAi1t"
      },
      "source": [
        "## **Aim:** Convert Speech to Text."
      ]
    },
    {
      "cell_type": "markdown",
      "source": [
        "### **Steps To Perform:**"
      ],
      "metadata": {
        "id": "dWzqIvD3THBS"
      }
    },
    {
      "cell_type": "code",
      "source": [
        "!pip install pydub"
      ],
      "metadata": {
        "colab": {
          "base_uri": "https://localhost:8080/"
        },
        "id": "snoUyTCVUBMX",
        "outputId": "f7428438-52f6-4325-efb6-1aa3a08db84a"
      },
      "execution_count": 1,
      "outputs": [
        {
          "output_type": "stream",
          "name": "stdout",
          "text": [
            "Looking in indexes: https://pypi.org/simple, https://us-python.pkg.dev/colab-wheels/public/simple/\n",
            "Collecting pydub\n",
            "  Downloading pydub-0.25.1-py2.py3-none-any.whl (32 kB)\n",
            "Installing collected packages: pydub\n",
            "Successfully installed pydub-0.25.1\n"
          ]
        }
      ]
    },
    {
      "cell_type": "code",
      "source": [
        "!pip install speechrecognition"
      ],
      "metadata": {
        "colab": {
          "base_uri": "https://localhost:8080/"
        },
        "id": "yqhJn9KaUD58",
        "outputId": "d661316e-5a58-4e34-cf96-1a87d9dc39cb"
      },
      "execution_count": 2,
      "outputs": [
        {
          "output_type": "stream",
          "name": "stdout",
          "text": [
            "Looking in indexes: https://pypi.org/simple, https://us-python.pkg.dev/colab-wheels/public/simple/\n",
            "Collecting speechrecognition\n",
            "  Downloading SpeechRecognition-3.8.1-py2.py3-none-any.whl (32.8 MB)\n",
            "\u001b[K     |████████████████████████████████| 32.8 MB 1.3 MB/s \n",
            "\u001b[?25hInstalling collected packages: speechrecognition\n",
            "Successfully installed speechrecognition-3.8.1\n"
          ]
        }
      ]
    },
    {
      "cell_type": "markdown",
      "source": [
        "## **# Importing the required Libraries.**"
      ],
      "metadata": {
        "id": "jspVxkeTTL9e"
      }
    },
    {
      "cell_type": "code",
      "source": [
        "from pydub import AudioSegment\n",
        "from pydub.silence import split_on_silence\n",
        "import speech_recognition as speech_recognition\n",
        "import os"
      ],
      "metadata": {
        "id": "bgHSTya6TGeC"
      },
      "execution_count": 3,
      "outputs": []
    },
    {
      "cell_type": "code",
      "source": [
        "# Creating Speech Recognizer Object.\n",
        "\n",
        "speechRecognitionObject = speech_recognition.Recognizer()"
      ],
      "metadata": {
        "id": "cX7ndGDhUi8Z"
      },
      "execution_count": 4,
      "outputs": []
    },
    {
      "cell_type": "markdown",
      "source": [
        "## **# Open the Audio file using pydub.**"
      ],
      "metadata": {
        "id": "goemGB02U1dB"
      }
    },
    {
      "cell_type": "code",
      "source": [
        "audioFile = AudioSegment.from_wav(\"/content/machine_learning_speech_recognition_audio_file.wav\")"
      ],
      "metadata": {
        "id": "RbaebjVbUuf_"
      },
      "execution_count": 5,
      "outputs": []
    },
    {
      "cell_type": "markdown",
      "source": [
        "## **# Split audio sound where silence is 700 milliseconds or more and get chunks.**"
      ],
      "metadata": {
        "id": "soHswd7UVR_D"
      }
    },
    {
      "cell_type": "code",
      "source": [
        "audioChunks = split_on_silence(\n",
        "    audioFile,\n",
        "    min_silence_len = 400,\n",
        "    silence_thresh = audioFile.dBFS-15,\n",
        "    keep_silence = 500,\n",
        ")\n",
        "\n",
        "# min_silence_len: Can change and play around with the values for Target Audio File.\n",
        "# silence_thresh: Can change the value as per the requirement.\n",
        "# keep_silence: This means keep silence for xyz time where xyz can be any time and its changeable."
      ],
      "metadata": {
        "id": "Wqy8i-KoVPJ9"
      },
      "execution_count": 6,
      "outputs": []
    },
    {
      "cell_type": "markdown",
      "source": [
        "## **# Create a directory to store the audio chunks.**"
      ],
      "metadata": {
        "id": "guyeLqB0WWuI"
      }
    },
    {
      "cell_type": "code",
      "source": [
        "os.mkdir(\"/content/audio_chunks\")"
      ],
      "metadata": {
        "id": "QTDdnxHRWT_s"
      },
      "execution_count": 7,
      "outputs": []
    },
    {
      "cell_type": "markdown",
      "source": [
        "## **# Process each chunk.**"
      ],
      "metadata": {
        "id": "WsWfLvDhWo7g"
      }
    },
    {
      "cell_type": "code",
      "source": [
        "audioText = \"\"\n",
        "\n",
        "\n",
        "for i, audioChunk in enumerate(audioChunks):\n",
        "\n",
        "  # Exporting Audio chunk and save it in the \"audio_chunks\" directory that we created above.\n",
        "  chunkFileName = os.path.join(\"/content/audio_chunks\", f\"audioChunks{i}.wav\")\n",
        "  audioChunk.export(chunkFileName, format = \"wav\")\n",
        "\n",
        "  # Recognizing the Chunk.\n",
        "  with speech_recognition.AudioFile(chunkFileName) as sourceFile:\n",
        "    audioHeard = speechRecognitionObject.record(sourceFile)\n",
        "\n",
        "    # Try converting it to text.\n",
        "    text = speechRecognitionObject.recognize_google(audioHeard)\n",
        "    text = f\"{text.capitalize()}. \"\n",
        "\n",
        "    print(text)\n",
        "\n",
        "    audioText += text"
      ],
      "metadata": {
        "colab": {
          "base_uri": "https://localhost:8080/"
        },
        "id": "Htpj5jUJWhw0",
        "outputId": "df7e6195-184e-4fe1-bd74-058fee8ff2eb"
      },
      "execution_count": 8,
      "outputs": [
        {
          "output_type": "stream",
          "name": "stdout",
          "text": [
            "His abode which you had fixed in a bowery or country seat. \n",
            "Have a short distance from the city. \n",
            "Just at what is now called dutch street. \n",
            "Soon abounded with proofs of his ingenuity. \n",
            "Patent. \n",
            "Smokejack. \n",
            "It required a horse to work some. \n",
            "Dutch oven roasted meat without fire. \n",
            "Carts that went before the horses. \n",
            "Weather cox that turned against the wind and other wrongheaded contrivances. \n",
            "So just understand confound it all beholders. \n"
          ]
        }
      ]
    },
    {
      "cell_type": "markdown",
      "source": [
        "## **# Print the whole text for all chunks detected.**"
      ],
      "metadata": {
        "id": "Njt-jaqpaL3F"
      }
    },
    {
      "cell_type": "code",
      "source": [
        "audioText"
      ],
      "metadata": {
        "colab": {
          "base_uri": "https://localhost:8080/",
          "height": 88
        },
        "id": "V3jRLhkeYnmG",
        "outputId": "3d45fd1a-6447-4c0e-cad5-c1ca3859c9e9"
      },
      "execution_count": 13,
      "outputs": [
        {
          "output_type": "execute_result",
          "data": {
            "text/plain": [
              "'His abode which you had fixed in a bowery or country seat. Have a short distance from the city. Just at what is now called dutch street. Soon abounded with proofs of his ingenuity. Patent. Smokejack. It required a horse to work some. Dutch oven roasted meat without fire. Carts that went before the horses. Weather cox that turned against the wind and other wrongheaded contrivances. So just understand confound it all beholders. '"
            ],
            "application/vnd.google.colaboratory.intrinsic+json": {
              "type": "string"
            }
          },
          "metadata": {},
          "execution_count": 13
        }
      ]
    },
    {
      "cell_type": "markdown",
      "source": [
        "\n",
        "\n",
        "---\n",
        "\n"
      ],
      "metadata": {
        "id": "9zCjMgKTbofG"
      }
    },
    {
      "cell_type": "code",
      "source": [],
      "metadata": {
        "id": "oxvxsi54bp10"
      },
      "execution_count": null,
      "outputs": []
    }
  ]
}