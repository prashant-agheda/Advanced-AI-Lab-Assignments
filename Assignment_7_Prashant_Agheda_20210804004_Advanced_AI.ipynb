{
  "nbformat": 4,
  "nbformat_minor": 0,
  "metadata": {
    "colab": {
      "provenance": [],
      "authorship_tag": "ABX9TyMjburgRGZXsSykMbtRJ2dc"
    },
    "kernelspec": {
      "name": "python3",
      "display_name": "Python 3"
    },
    "language_info": {
      "name": "python"
    }
  },
  "cells": [
    {
      "cell_type": "markdown",
      "source": [
        "# **ASSIGNMENT 7**\n",
        "---\n",
        "\n",
        "# **Name:** Prashant Agheda\n",
        "# **PRN No:** 20210804004\n",
        "# **Subject:** Advanced AI\n",
        "\n",
        "---"
      ],
      "metadata": {
        "id": "JPUfXUxEy1_j"
      }
    },
    {
      "cell_type": "markdown",
      "source": [
        "## **Topic:** Bandit Problem."
      ],
      "metadata": {
        "id": "6YKwwnJdy9FC"
      }
    },
    {
      "cell_type": "markdown",
      "source": [
        "## **Aim:** TO STUDY AND PERFORM BANDIT PROBLEM.."
      ],
      "metadata": {
        "id": "DUVO-MQuzJKS"
      }
    },
    {
      "cell_type": "markdown",
      "source": [
        "### **Steps To Perform:**"
      ],
      "metadata": {
        "id": "tT-Ik8ShzDNV"
      }
    },
    {
      "cell_type": "markdown",
      "source": [
        "## **1. Describe the Number of bandits.**"
      ],
      "metadata": {
        "id": "Nh_OeJvrzUxW"
      }
    },
    {
      "cell_type": "code",
      "source": [
        "# Importing the required libraries\n",
        "\n",
        "import os\n",
        "import numpy as np\n",
        "import matplotlib.pyplot as plt"
      ],
      "metadata": {
        "id": "i6T0Fq-Mrhc1"
      },
      "execution_count": 1,
      "outputs": []
    },
    {
      "cell_type": "code",
      "source": [
        "np.random.seed(0)"
      ],
      "metadata": {
        "id": "C8mL-aLuruGs"
      },
      "execution_count": 2,
      "outputs": []
    },
    {
      "cell_type": "code",
      "source": [
        "class Environment:\n",
        "\n",
        "    def __init__(self, probs):\n",
        "        # success probabilities for each arm\n",
        "        self.probs = probs\n",
        "\n",
        "    def step(self, action):\n",
        "        # Pull arm and get stochastic reward (1 for success, 0 for failure)\n",
        "        return 1 if (np.random.random()  < self.probs[action]) else 0\n",
        "\n",
        "class Agent:\n",
        "\n",
        "    def __init__(self, nActions, eps):\n",
        "        self.nActions = nActions\n",
        "        self.eps = eps\n",
        "        # action counts n(a)\n",
        "        self.n = np.zeros(nActions, dtype=int)\n",
        "        # value Q(a)\n",
        "        self.Q = np.zeros(nActions, dtype=float)\n",
        "\n",
        "    def update_Q(self, action, reward):\n",
        "        # Update Q action-value given (action, reward)\n",
        "        self.n[action] += 1\n",
        "        self.Q[action] += (1.0/self.n[action]) * (reward - self.Q[action])\n",
        "\n",
        "    def get_action(self):\n",
        "        # Epsilon-greedy approach\n",
        "        # explore\n",
        "        if np.random.random() < self.eps:\n",
        "            return np.random.randint(self.nActions)\n",
        "        # exploit\n",
        "        else:\n",
        "            return np.random.choice(np.flatnonzero(self.Q == self.Q.max()))"
      ],
      "metadata": {
        "id": "-CUeWFSprv4J"
      },
      "execution_count": 3,
      "outputs": []
    },
    {
      "cell_type": "code",
      "source": [
        "# Start multi-armed bandit simulation\n",
        "\n",
        "def experiment(probs, N_episodes):\n",
        "    # initialize arm probabilities\n",
        "    env = Environment(probs)\n",
        "    # initialize agent\n",
        "    agent = Agent(len(env.probs), eps)\n",
        "    actions, rewards = [], []\n",
        "\n",
        "    for episode in range(N_episodes):\n",
        "        # sample policy\n",
        "        action = agent.get_action()\n",
        "        # take step + get reward\n",
        "        reward = env.step(action)\n",
        "        # update Q\n",
        "        agent.update_Q(action, reward)\n",
        "        actions.append(action)\n",
        "        rewards.append(reward)\n",
        "        \n",
        "    return np.array(actions), np.array(rewards)"
      ],
      "metadata": {
        "id": "U0ceVrKEryWI"
      },
      "execution_count": 4,
      "outputs": []
    },
    {
      "cell_type": "code",
      "source": [
        "# Settings\n",
        "# bandit arm probabilities of success\n",
        "\n",
        "# Describe the Number of bandits and Success probabilities\n",
        "probs = [ 0.10, 0.50, 0.60, 0.80, 0.10,\n",
        "          0.25, 0.60, 0.45, 0.75, 0.65 ]\n",
        "\n",
        "# number of experiments to perform\n",
        "# The number of trials.\n",
        "N_experiments = 1000\n",
        "\n",
        "# number of steps (episodes)\n",
        "N_steps = 500\n",
        "\n",
        "# probability of random exploration (fraction)\n",
        "eps = 0.1\n",
        "\n",
        "# Run multi-armed bandit experiments\n",
        "print(\"Running multi-armed bandits with nActions = {}, eps = {}\".format(len(probs), eps))\n",
        "\n",
        "# reward history sum\n",
        "R = np.zeros((N_steps,))\n",
        "\n",
        "# action history sum\n",
        "A = np.zeros((N_steps, len(probs)))\n",
        "\n",
        "for i in range(N_experiments):\n",
        "  # perform experiment\n",
        "  actions, rewards = experiment(probs, N_steps)\n",
        "  \n",
        "  if (i + 1) % (N_experiments / 100) == 0:\n",
        "    print(\"[Trail Experiment: {}/{}] \".format(i + 1, N_experiments) +\n",
        "          \"n_steps = {}, \".format(N_steps) +\n",
        "          \"reward_avg = {}\".format(np.sum(rewards) / len(rewards)))\n",
        "    \n",
        "    R += rewards\n",
        "\n",
        "    for j, a in enumerate(actions):\n",
        "        A[j][a] += 1"
      ],
      "metadata": {
        "colab": {
          "base_uri": "https://localhost:8080/"
        },
        "id": "1z1MxDYIrzeA",
        "outputId": "f390cbbe-7612-463a-ede3-840ef44cc516"
      },
      "execution_count": 5,
      "outputs": [
        {
          "output_type": "stream",
          "name": "stdout",
          "text": [
            "Running multi-armed bandits with nActions = 10, eps = 0.1\n",
            "[Trail Experiment: 10/1000] n_steps = 500, reward_avg = 0.716\n",
            "[Trail Experiment: 20/1000] n_steps = 500, reward_avg = 0.738\n",
            "[Trail Experiment: 30/1000] n_steps = 500, reward_avg = 0.668\n",
            "[Trail Experiment: 40/1000] n_steps = 500, reward_avg = 0.728\n",
            "[Trail Experiment: 50/1000] n_steps = 500, reward_avg = 0.6\n",
            "[Trail Experiment: 60/1000] n_steps = 500, reward_avg = 0.708\n",
            "[Trail Experiment: 70/1000] n_steps = 500, reward_avg = 0.784\n",
            "[Trail Experiment: 80/1000] n_steps = 500, reward_avg = 0.67\n",
            "[Trail Experiment: 90/1000] n_steps = 500, reward_avg = 0.654\n",
            "[Trail Experiment: 100/1000] n_steps = 500, reward_avg = 0.716\n",
            "[Trail Experiment: 110/1000] n_steps = 500, reward_avg = 0.766\n",
            "[Trail Experiment: 120/1000] n_steps = 500, reward_avg = 0.656\n",
            "[Trail Experiment: 130/1000] n_steps = 500, reward_avg = 0.756\n",
            "[Trail Experiment: 140/1000] n_steps = 500, reward_avg = 0.704\n",
            "[Trail Experiment: 150/1000] n_steps = 500, reward_avg = 0.634\n",
            "[Trail Experiment: 160/1000] n_steps = 500, reward_avg = 0.712\n",
            "[Trail Experiment: 170/1000] n_steps = 500, reward_avg = 0.642\n",
            "[Trail Experiment: 180/1000] n_steps = 500, reward_avg = 0.772\n",
            "[Trail Experiment: 190/1000] n_steps = 500, reward_avg = 0.614\n",
            "[Trail Experiment: 200/1000] n_steps = 500, reward_avg = 0.772\n",
            "[Trail Experiment: 210/1000] n_steps = 500, reward_avg = 0.752\n",
            "[Trail Experiment: 220/1000] n_steps = 500, reward_avg = 0.774\n",
            "[Trail Experiment: 230/1000] n_steps = 500, reward_avg = 0.688\n",
            "[Trail Experiment: 240/1000] n_steps = 500, reward_avg = 0.646\n",
            "[Trail Experiment: 250/1000] n_steps = 500, reward_avg = 0.742\n",
            "[Trail Experiment: 260/1000] n_steps = 500, reward_avg = 0.708\n",
            "[Trail Experiment: 270/1000] n_steps = 500, reward_avg = 0.712\n",
            "[Trail Experiment: 280/1000] n_steps = 500, reward_avg = 0.63\n",
            "[Trail Experiment: 290/1000] n_steps = 500, reward_avg = 0.704\n",
            "[Trail Experiment: 300/1000] n_steps = 500, reward_avg = 0.718\n",
            "[Trail Experiment: 310/1000] n_steps = 500, reward_avg = 0.728\n",
            "[Trail Experiment: 320/1000] n_steps = 500, reward_avg = 0.75\n",
            "[Trail Experiment: 330/1000] n_steps = 500, reward_avg = 0.732\n",
            "[Trail Experiment: 340/1000] n_steps = 500, reward_avg = 0.624\n",
            "[Trail Experiment: 350/1000] n_steps = 500, reward_avg = 0.682\n",
            "[Trail Experiment: 360/1000] n_steps = 500, reward_avg = 0.7\n",
            "[Trail Experiment: 370/1000] n_steps = 500, reward_avg = 0.718\n",
            "[Trail Experiment: 380/1000] n_steps = 500, reward_avg = 0.636\n",
            "[Trail Experiment: 390/1000] n_steps = 500, reward_avg = 0.652\n",
            "[Trail Experiment: 400/1000] n_steps = 500, reward_avg = 0.734\n",
            "[Trail Experiment: 410/1000] n_steps = 500, reward_avg = 0.774\n",
            "[Trail Experiment: 420/1000] n_steps = 500, reward_avg = 0.758\n",
            "[Trail Experiment: 430/1000] n_steps = 500, reward_avg = 0.76\n",
            "[Trail Experiment: 440/1000] n_steps = 500, reward_avg = 0.736\n",
            "[Trail Experiment: 450/1000] n_steps = 500, reward_avg = 0.776\n",
            "[Trail Experiment: 460/1000] n_steps = 500, reward_avg = 0.696\n",
            "[Trail Experiment: 470/1000] n_steps = 500, reward_avg = 0.722\n",
            "[Trail Experiment: 480/1000] n_steps = 500, reward_avg = 0.736\n",
            "[Trail Experiment: 490/1000] n_steps = 500, reward_avg = 0.63\n",
            "[Trail Experiment: 500/1000] n_steps = 500, reward_avg = 0.648\n",
            "[Trail Experiment: 510/1000] n_steps = 500, reward_avg = 0.768\n",
            "[Trail Experiment: 520/1000] n_steps = 500, reward_avg = 0.692\n",
            "[Trail Experiment: 530/1000] n_steps = 500, reward_avg = 0.632\n",
            "[Trail Experiment: 540/1000] n_steps = 500, reward_avg = 0.7\n",
            "[Trail Experiment: 550/1000] n_steps = 500, reward_avg = 0.666\n",
            "[Trail Experiment: 560/1000] n_steps = 500, reward_avg = 0.64\n",
            "[Trail Experiment: 570/1000] n_steps = 500, reward_avg = 0.712\n",
            "[Trail Experiment: 580/1000] n_steps = 500, reward_avg = 0.68\n",
            "[Trail Experiment: 590/1000] n_steps = 500, reward_avg = 0.666\n",
            "[Trail Experiment: 600/1000] n_steps = 500, reward_avg = 0.674\n",
            "[Trail Experiment: 610/1000] n_steps = 500, reward_avg = 0.638\n",
            "[Trail Experiment: 620/1000] n_steps = 500, reward_avg = 0.786\n",
            "[Trail Experiment: 630/1000] n_steps = 500, reward_avg = 0.662\n",
            "[Trail Experiment: 640/1000] n_steps = 500, reward_avg = 0.706\n",
            "[Trail Experiment: 650/1000] n_steps = 500, reward_avg = 0.708\n",
            "[Trail Experiment: 660/1000] n_steps = 500, reward_avg = 0.574\n",
            "[Trail Experiment: 670/1000] n_steps = 500, reward_avg = 0.748\n",
            "[Trail Experiment: 680/1000] n_steps = 500, reward_avg = 0.742\n",
            "[Trail Experiment: 690/1000] n_steps = 500, reward_avg = 0.738\n",
            "[Trail Experiment: 700/1000] n_steps = 500, reward_avg = 0.668\n",
            "[Trail Experiment: 710/1000] n_steps = 500, reward_avg = 0.736\n",
            "[Trail Experiment: 720/1000] n_steps = 500, reward_avg = 0.766\n",
            "[Trail Experiment: 730/1000] n_steps = 500, reward_avg = 0.756\n",
            "[Trail Experiment: 740/1000] n_steps = 500, reward_avg = 0.734\n",
            "[Trail Experiment: 750/1000] n_steps = 500, reward_avg = 0.672\n",
            "[Trail Experiment: 760/1000] n_steps = 500, reward_avg = 0.754\n",
            "[Trail Experiment: 770/1000] n_steps = 500, reward_avg = 0.706\n",
            "[Trail Experiment: 780/1000] n_steps = 500, reward_avg = 0.558\n",
            "[Trail Experiment: 790/1000] n_steps = 500, reward_avg = 0.754\n",
            "[Trail Experiment: 800/1000] n_steps = 500, reward_avg = 0.668\n",
            "[Trail Experiment: 810/1000] n_steps = 500, reward_avg = 0.696\n",
            "[Trail Experiment: 820/1000] n_steps = 500, reward_avg = 0.766\n",
            "[Trail Experiment: 830/1000] n_steps = 500, reward_avg = 0.75\n",
            "[Trail Experiment: 840/1000] n_steps = 500, reward_avg = 0.592\n",
            "[Trail Experiment: 850/1000] n_steps = 500, reward_avg = 0.714\n",
            "[Trail Experiment: 860/1000] n_steps = 500, reward_avg = 0.766\n",
            "[Trail Experiment: 870/1000] n_steps = 500, reward_avg = 0.666\n",
            "[Trail Experiment: 880/1000] n_steps = 500, reward_avg = 0.722\n",
            "[Trail Experiment: 890/1000] n_steps = 500, reward_avg = 0.76\n",
            "[Trail Experiment: 900/1000] n_steps = 500, reward_avg = 0.738\n",
            "[Trail Experiment: 910/1000] n_steps = 500, reward_avg = 0.724\n",
            "[Trail Experiment: 920/1000] n_steps = 500, reward_avg = 0.706\n",
            "[Trail Experiment: 930/1000] n_steps = 500, reward_avg = 0.718\n",
            "[Trail Experiment: 940/1000] n_steps = 500, reward_avg = 0.756\n",
            "[Trail Experiment: 950/1000] n_steps = 500, reward_avg = 0.776\n",
            "[Trail Experiment: 960/1000] n_steps = 500, reward_avg = 0.742\n",
            "[Trail Experiment: 970/1000] n_steps = 500, reward_avg = 0.752\n",
            "[Trail Experiment: 980/1000] n_steps = 500, reward_avg = 0.744\n",
            "[Trail Experiment: 990/1000] n_steps = 500, reward_avg = 0.728\n",
            "[Trail Experiment: 1000/1000] n_steps = 500, reward_avg = 0.704\n"
          ]
        }
      ]
    },
    {
      "cell_type": "code",
      "source": [
        "# Plot reward results\n",
        "\n",
        "R_avg =  R / float(N_experiments)\n",
        "\n",
        "plt.plot(R_avg, \".\")\n",
        "plt.xlabel(\"Step\")\n",
        "plt.ylabel(\"Average Reward\")\n",
        "plt.grid()\n",
        "plt.xlim([1, N_steps])\n",
        "plt.show()"
      ],
      "metadata": {
        "colab": {
          "base_uri": "https://localhost:8080/",
          "height": 279
        },
        "id": "bcEUOCqhtqaV",
        "outputId": "edf6dce1-3ba7-4dc1-e5bd-3b9000679c6d"
      },
      "execution_count": 6,
      "outputs": [
        {
          "output_type": "display_data",
          "data": {
            "text/plain": [
              "<Figure size 432x288 with 1 Axes>"
            ],
            "image/png": "[encoded data removed]"
          },
          "metadata": {
            "needs_background": "light"
          }
        }
      ]
    },
    {
      "cell_type": "code",
      "source": [
        "# Plot action results\n",
        "\n",
        "for i in range(len(probs)):\n",
        "    A_pct = 100 * A[:,i] / N_experiments\n",
        "    steps = list(np.array(range(len(A_pct)))+1)\n",
        "    plt.plot(steps, A_pct, \"-\",\n",
        "             linewidth=4,\n",
        "             label=\"Arm {} ({:.0f}%)\".format(i+1, 100*probs[i]))\n",
        "    \n",
        "plt.xlabel(\"Step\")\n",
        "plt.ylabel(\"Count Percentage (%)\")\n",
        "leg = plt.legend(loc=\"upper right\", shadow=True)\n",
        "plt.xlim([1, N_steps])\n",
        "plt.ylim([0, 100])\n",
        "\n",
        "for legobj in leg.legendHandles:\n",
        "    legobj.set_linewidth(5.0)\n",
        "\n",
        "plt.show()"
      ],
      "metadata": {
        "colab": {
          "base_uri": "https://localhost:8080/",
          "height": 283
        },
        "id": "mGZhyFzEuPBt",
        "outputId": "29bc1759-0244-4dc0-84d5-c827b8641117"
      },
      "execution_count": 7,
      "outputs": [
        {
          "output_type": "display_data",
          "data": {
            "text/plain": [
              "<Figure size 432x288 with 1 Axes>"
            ],
            "image/png": "[encoded data removed]"
          },
          "metadata": {
            "needs_background": "light"
          }
        }
      ]
    },
    {
      "cell_type": "markdown",
      "source": [
        "\n",
        "\n",
        "---\n",
        "\n"
      ],
      "metadata": {
        "id": "hXCZCYunxVyD"
      }
    },
    {
      "cell_type": "markdown",
      "source": [
        "## **Observations:**\n",
        "\n",
        "- From above graphs, we can observe and tell that **Arm 4 with 80% has the Highest Winning Rate.**\n",
        "- **Arm 9 with 75% has 2nd Highest Winning Rate.**\n",
        "- **Arm 10 with 65% has 3rd Highest Winning Rate.**"
      ],
      "metadata": {
        "id": "VJ1KzQBjxW5I"
      }
    },
    {
      "cell_type": "markdown",
      "source": [
        "\n",
        "\n",
        "---\n",
        "\n"
      ],
      "metadata": {
        "id": "NxEFyhMsyYr1"
      }
    },
    {
      "cell_type": "code",
      "source": [],
      "metadata": {
        "id": "-CA7dzhXuSEU"
      },
      "execution_count": 7,
      "outputs": []
    }
  ]
}